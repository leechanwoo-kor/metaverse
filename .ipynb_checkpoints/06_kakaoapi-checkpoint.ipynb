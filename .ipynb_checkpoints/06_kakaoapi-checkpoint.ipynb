{
 "cells": [
  {
   "cell_type": "code",
   "execution_count": 1,
   "id": "7bea07fc",
   "metadata": {},
   "outputs": [],
   "source": [
    "import warnings\n",
    "warnings.filterwarnings('ignore')"
   ]
  },
  {
   "cell_type": "code",
   "execution_count": 3,
   "id": "d962eb70",
   "metadata": {},
   "outputs": [],
   "source": [
    "# 라이브러리 추가\n",
    "import pandas as pd\n",
    "import requests; from urllib.parse import urlparse\n",
    "import seaborn as sns\n",
    "import matplotlib; import matplotlib.pyplot as plt\n",
    "import squarify\n",
    "import numpy as np\n",
    "import re\n",
    "import networkx as nx"
   ]
  }
 ],
 "metadata": {
  "kernelspec": {
   "display_name": "Python 3 (ipykernel)",
   "language": "python",
   "name": "python3"
  },
  "language_info": {
   "codemirror_mode": {
    "name": "ipython",
    "version": 3
   },
   "file_extension": ".py",
   "mimetype": "text/x-python",
   "name": "python",
   "nbconvert_exporter": "python",
   "pygments_lexer": "ipython3",
   "version": "3.7.9"
  }
 },
 "nbformat": 4,
 "nbformat_minor": 5
}
